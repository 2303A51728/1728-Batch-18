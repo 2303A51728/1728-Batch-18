{
  "nbformat": 4,
  "nbformat_minor": 0,
  "metadata": {
    "colab": {
      "provenance": [],
      "authorship_tag": "ABX9TyNOk4Jh6iTKuN6Y1RSviTGa",
      "include_colab_link": true
    },
    "kernelspec": {
      "name": "python3",
      "display_name": "Python 3"
    },
    "language_info": {
      "name": "python"
    }
  },
  "cells": [
    {
      "cell_type": "markdown",
      "metadata": {
        "id": "view-in-github",
        "colab_type": "text"
      },
      "source": [
        "<a href=\"https://colab.research.google.com/github/2303A51728/1728-Batch-18/blob/main/ASSIG_1.ipynb\" target=\"_parent\"><img src=\"https://colab.research.google.com/assets/colab-badge.svg\" alt=\"Open In Colab\"/></a>"
      ]
    },
    {
      "cell_type": "code",
      "execution_count": 1,
      "metadata": {
        "colab": {
          "base_uri": "https://localhost:8080/"
        },
        "id": "Vz_gjSG1boZ0",
        "outputId": "4e933c48-c2b9-41b8-cd23-93a9c8351f4a"
      },
      "outputs": [
        {
          "output_type": "stream",
          "name": "stdout",
          "text": [
            "Enter a number:4\n",
            "The factorial of 4 is 24\n"
          ]
        }
      ],
      "source": [
        "\n",
        "\n",
        "def factorial(n):\n",
        "  if n==0 or n==1:\n",
        "   return 1\n",
        "  else:\n",
        "   return n*factorial(n-1)\n",
        "\n",
        "number= int(input(\"Enter a number:\"))\n",
        "if number < 0:\n",
        "  print(\"Factorial is not defined for negative numbers.\")\n",
        "else:\n",
        "  result= factorial(number)\n",
        "  print(f\"The factorial of {number} is {result}\")"
      ]
    },
    {
      "cell_type": "code",
      "source": [
        "def factorial(n):\n",
        "\n",
        "    if n ==0 or n ==1:\n",
        "\n",
        "        return 1\n",
        "\n",
        "    return n * factorial(n - 1)\n",
        "\n",
        "def compute_permutation(n, r):\n",
        "\n",
        "    if n < r:\n",
        "\n",
        "        raise ValueError(\"Invalid input: n must be greater than or equal to r.\")\n",
        "\n",
        "    print(f\"Calculating {n}P{r} = {n}! / ({n} - {r})!\")\n",
        "\n",
        "    numerator = factorial(n)\n",
        "\n",
        "    denominator = factorial(n - r)\n",
        "\n",
        "    print(f\"{n}! = {numerator}\")\n",
        "\n",
        "    print(f\"({n}-{r})! = {denominator}\")\n",
        "\n",
        "    result = numerator // denominator\n",
        "\n",
        "    print(f\"Permutations = {result}\")\n",
        "\n",
        "    return result\n",
        "\n",
        "# Example Usage\n",
        "\n",
        "try:\n",
        "\n",
        "    n = int(input(\"Enter total number of people (n): \"))\n",
        "\n",
        "    r = int(input(\"Enter number of places (r): \"))\n",
        "\n",
        "    compute_permutation(n, r)\n",
        "\n",
        "except ValueError as e:\n",
        "\n",
        "    print(\"Error:\", e)"
      ],
      "metadata": {
        "colab": {
          "base_uri": "https://localhost:8080/"
        },
        "id": "6U30zkMDbwDB",
        "outputId": "789f7bfc-8423-4d85-ec7f-379b6d3e4c17"
      },
      "execution_count": 2,
      "outputs": [
        {
          "output_type": "stream",
          "name": "stdout",
          "text": [
            "Enter total number of people (n): 9\n",
            "Enter number of places (r): 7\n",
            "Calculating 9P7 = 9! / (9 - 7)!\n",
            "9! = 362880\n",
            "(9-7)! = 2\n",
            "Permutations = 181440\n"
          ]
        }
      ]
    }
  ]
}